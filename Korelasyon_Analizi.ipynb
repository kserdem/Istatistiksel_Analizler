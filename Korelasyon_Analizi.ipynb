{
  "nbformat": 4,
  "nbformat_minor": 0,
  "metadata": {
    "colab": {
      "name": "Korelasyon_Analizi.ipynb",
      "provenance": [],
      "authorship_tag": "ABX9TyPjXeoULnHNIEpCptAMgDHF",
      "include_colab_link": true
    },
    "kernelspec": {
      "name": "python3",
      "display_name": "Python 3"
    },
    "language_info": {
      "name": "python"
    }
  },
  "cells": [
    {
      "cell_type": "markdown",
      "metadata": {
        "id": "view-in-github",
        "colab_type": "text"
      },
      "source": [
        "<a href=\"https://colab.research.google.com/github/kserdem/Istatistiksel_Analizler/blob/main/Korelasyon_Analizi.ipynb\" target=\"_parent\"><img src=\"https://colab.research.google.com/assets/colab-badge.svg\" alt=\"Open In Colab\"/></a>"
      ]
    },
    {
      "cell_type": "code",
      "metadata": {
        "id": "h6r8feRyGW7N"
      },
      "source": [
        "import pandas as pd\n",
        "import numpy as np\n",
        "import matplotlib.pyplot as plt\n",
        "import seaborn as sns"
      ],
      "execution_count": 4,
      "outputs": []
    },
    {
      "cell_type": "markdown",
      "metadata": {
        "id": "03EwFeV7VFvU"
      },
      "source": [
        "#Veri Setlerinin Oluşturulması"
      ]
    },
    {
      "cell_type": "markdown",
      "metadata": {
        "id": "-LqtKAhMLAAm"
      },
      "source": [
        "* Pozitif Korelasyon"
      ]
    },
    {
      "cell_type": "code",
      "metadata": {
        "colab": {
          "base_uri": "https://localhost:8080/",
          "height": 204
        },
        "id": "BZzWHkc0GcjF",
        "outputId": "0b41bb1c-a4f9-489c-971b-34806b4d8d95"
      },
      "source": [
        "pozitif_corr= pd.DataFrame({'sicaklik':[28,33,17,25,13,27,14,30,15,14,33,32,19,11,14,17,34,24,27],\n",
        "                            'dondurma_satisi': [8,10,2,5,3,11,1,15,2,4,10,12,4,0,1,2,15,6,8]})\n",
        "pozitif_corr.head()"
      ],
      "execution_count": 5,
      "outputs": [
        {
          "output_type": "execute_result",
          "data": {
            "text/html": [
              "<div>\n",
              "<style scoped>\n",
              "    .dataframe tbody tr th:only-of-type {\n",
              "        vertical-align: middle;\n",
              "    }\n",
              "\n",
              "    .dataframe tbody tr th {\n",
              "        vertical-align: top;\n",
              "    }\n",
              "\n",
              "    .dataframe thead th {\n",
              "        text-align: right;\n",
              "    }\n",
              "</style>\n",
              "<table border=\"1\" class=\"dataframe\">\n",
              "  <thead>\n",
              "    <tr style=\"text-align: right;\">\n",
              "      <th></th>\n",
              "      <th>sicaklik</th>\n",
              "      <th>dondurma_satisi</th>\n",
              "    </tr>\n",
              "  </thead>\n",
              "  <tbody>\n",
              "    <tr>\n",
              "      <th>0</th>\n",
              "      <td>28</td>\n",
              "      <td>8</td>\n",
              "    </tr>\n",
              "    <tr>\n",
              "      <th>1</th>\n",
              "      <td>33</td>\n",
              "      <td>10</td>\n",
              "    </tr>\n",
              "    <tr>\n",
              "      <th>2</th>\n",
              "      <td>17</td>\n",
              "      <td>2</td>\n",
              "    </tr>\n",
              "    <tr>\n",
              "      <th>3</th>\n",
              "      <td>25</td>\n",
              "      <td>5</td>\n",
              "    </tr>\n",
              "    <tr>\n",
              "      <th>4</th>\n",
              "      <td>13</td>\n",
              "      <td>3</td>\n",
              "    </tr>\n",
              "  </tbody>\n",
              "</table>\n",
              "</div>"
            ],
            "text/plain": [
              "   sicaklik  dondurma_satisi\n",
              "0        28                8\n",
              "1        33               10\n",
              "2        17                2\n",
              "3        25                5\n",
              "4        13                3"
            ]
          },
          "metadata": {
            "tags": []
          },
          "execution_count": 5
        }
      ]
    },
    {
      "cell_type": "markdown",
      "metadata": {
        "id": "pArH4mbwVQ1_"
      },
      "source": [
        "* Negatif Korelasyon"
      ]
    },
    {
      "cell_type": "code",
      "metadata": {
        "colab": {
          "base_uri": "https://localhost:8080/",
          "height": 204
        },
        "id": "IvFX6E3nVKWh",
        "outputId": "193d5a74-a4ed-4900-9eb3-b222b0239496"
      },
      "source": [
        "negatif_corr= pd.DataFrame({'mutluluk':[8,7,2,5,6,8,9,10,4,1,1,3,5,7,6,9,10,5,4,8],\n",
        "                            'kaygı_seviyesi': [2,2,9,4,3,2,1,0,5,10,10,4,6,2,3,1,1,6,8,3]})\n",
        "negatif_corr.head()"
      ],
      "execution_count": 6,
      "outputs": [
        {
          "output_type": "execute_result",
          "data": {
            "text/html": [
              "<div>\n",
              "<style scoped>\n",
              "    .dataframe tbody tr th:only-of-type {\n",
              "        vertical-align: middle;\n",
              "    }\n",
              "\n",
              "    .dataframe tbody tr th {\n",
              "        vertical-align: top;\n",
              "    }\n",
              "\n",
              "    .dataframe thead th {\n",
              "        text-align: right;\n",
              "    }\n",
              "</style>\n",
              "<table border=\"1\" class=\"dataframe\">\n",
              "  <thead>\n",
              "    <tr style=\"text-align: right;\">\n",
              "      <th></th>\n",
              "      <th>mutluluk</th>\n",
              "      <th>kaygı_seviyesi</th>\n",
              "    </tr>\n",
              "  </thead>\n",
              "  <tbody>\n",
              "    <tr>\n",
              "      <th>0</th>\n",
              "      <td>8</td>\n",
              "      <td>2</td>\n",
              "    </tr>\n",
              "    <tr>\n",
              "      <th>1</th>\n",
              "      <td>7</td>\n",
              "      <td>2</td>\n",
              "    </tr>\n",
              "    <tr>\n",
              "      <th>2</th>\n",
              "      <td>2</td>\n",
              "      <td>9</td>\n",
              "    </tr>\n",
              "    <tr>\n",
              "      <th>3</th>\n",
              "      <td>5</td>\n",
              "      <td>4</td>\n",
              "    </tr>\n",
              "    <tr>\n",
              "      <th>4</th>\n",
              "      <td>6</td>\n",
              "      <td>3</td>\n",
              "    </tr>\n",
              "  </tbody>\n",
              "</table>\n",
              "</div>"
            ],
            "text/plain": [
              "   mutluluk  kaygı_seviyesi\n",
              "0         8               2\n",
              "1         7               2\n",
              "2         2               9\n",
              "3         5               4\n",
              "4         6               3"
            ]
          },
          "metadata": {
            "tags": []
          },
          "execution_count": 6
        }
      ]
    },
    {
      "cell_type": "markdown",
      "metadata": {
        "id": "HGjHHAqNVUz7"
      },
      "source": [
        "* Korelasyon Yok"
      ]
    },
    {
      "cell_type": "code",
      "metadata": {
        "colab": {
          "base_uri": "https://localhost:8080/",
          "height": 204
        },
        "id": "HkkMTUH6VKT9",
        "outputId": "9eabd190-6ac4-4a56-b528-e321dfe3d3fc"
      },
      "source": [
        "nötr_corr= pd.DataFrame({'tv_izleme_suresi':[8,7,2,5,6,8,9,10,4,1,1,3,5,7,6,9,10,5,4,8],\n",
        "                            'elbise_satisi': [22,15,13,25,11,10,18,19,32,12,14,15,18,22,20,27,26,23,14,15]})\n",
        "nötr_corr.head()"
      ],
      "execution_count": 7,
      "outputs": [
        {
          "output_type": "execute_result",
          "data": {
            "text/html": [
              "<div>\n",
              "<style scoped>\n",
              "    .dataframe tbody tr th:only-of-type {\n",
              "        vertical-align: middle;\n",
              "    }\n",
              "\n",
              "    .dataframe tbody tr th {\n",
              "        vertical-align: top;\n",
              "    }\n",
              "\n",
              "    .dataframe thead th {\n",
              "        text-align: right;\n",
              "    }\n",
              "</style>\n",
              "<table border=\"1\" class=\"dataframe\">\n",
              "  <thead>\n",
              "    <tr style=\"text-align: right;\">\n",
              "      <th></th>\n",
              "      <th>tv_izleme_suresi</th>\n",
              "      <th>elbise_satisi</th>\n",
              "    </tr>\n",
              "  </thead>\n",
              "  <tbody>\n",
              "    <tr>\n",
              "      <th>0</th>\n",
              "      <td>8</td>\n",
              "      <td>22</td>\n",
              "    </tr>\n",
              "    <tr>\n",
              "      <th>1</th>\n",
              "      <td>7</td>\n",
              "      <td>15</td>\n",
              "    </tr>\n",
              "    <tr>\n",
              "      <th>2</th>\n",
              "      <td>2</td>\n",
              "      <td>13</td>\n",
              "    </tr>\n",
              "    <tr>\n",
              "      <th>3</th>\n",
              "      <td>5</td>\n",
              "      <td>25</td>\n",
              "    </tr>\n",
              "    <tr>\n",
              "      <th>4</th>\n",
              "      <td>6</td>\n",
              "      <td>11</td>\n",
              "    </tr>\n",
              "  </tbody>\n",
              "</table>\n",
              "</div>"
            ],
            "text/plain": [
              "   tv_izleme_suresi  elbise_satisi\n",
              "0                 8             22\n",
              "1                 7             15\n",
              "2                 2             13\n",
              "3                 5             25\n",
              "4                 6             11"
            ]
          },
          "metadata": {
            "tags": []
          },
          "execution_count": 7
        }
      ]
    },
    {
      "cell_type": "markdown",
      "metadata": {
        "id": "d0btCjIzVu0P"
      },
      "source": [
        "# Doğrusallığın Görselleştirilmesi"
      ]
    },
    {
      "cell_type": "code",
      "metadata": {
        "colab": {
          "base_uri": "https://localhost:8080/",
          "height": 268
        },
        "id": "7zyoxfczVdT0",
        "outputId": "cee37bb6-8814-45a4-e56f-d20249aa7ad6"
      },
      "source": [
        "plt.scatter(pozitif_corr['dondurma_satisi'], pozitif_corr['sicaklik'])\n",
        "plt.show()"
      ],
      "execution_count": 8,
      "outputs": [
        {
          "output_type": "display_data",
          "data": {
            "image/png": "[encoded data removed]",
            "text/plain": [
              "<Figure size 432x288 with 1 Axes>"
            ]
          },
          "metadata": {
            "tags": [],
            "needs_background": "light"
          }
        }
      ]
    },
    {
      "cell_type": "code",
      "metadata": {
        "colab": {
          "base_uri": "https://localhost:8080/",
          "height": 296
        },
        "id": "CqTmXSb2VdQz",
        "outputId": "9edafc86-be52-47a0-99d2-803cd606df6a"
      },
      "source": [
        "sns.scatterplot(data=negatif_corr,x=negatif_corr['mutluluk'], y=negatif_corr['kaygı_seviyesi'])"
      ],
      "execution_count": 9,
      "outputs": [
        {
          "output_type": "execute_result",
          "data": {
            "text/plain": [
              "<matplotlib.axes._subplots.AxesSubplot at 0x7f58e280de50>"
            ]
          },
          "metadata": {
            "tags": []
          },
          "execution_count": 9
        },
        {
          "output_type": "display_data",
          "data": {
            "image/png": "[encoded data removed]",
            "text/plain": [
              "<Figure size 432x288 with 1 Axes>"
            ]
          },
          "metadata": {
            "tags": [],
            "needs_background": "light"
          }
        }
      ]
    },
    {
      "cell_type": "code",
      "metadata": {
        "colab": {
          "base_uri": "https://localhost:8080/",
          "height": 297
        },
        "id": "m3fr0JPQVdNH",
        "outputId": "abb9b4e0-6afa-41eb-fb01-063a2e863c53"
      },
      "source": [
        "sns.scatterplot(data=nötr_corr,x=nötr_corr['tv_izleme_suresi'], y=nötr_corr['elbise_satisi'])"
      ],
      "execution_count": 10,
      "outputs": [
        {
          "output_type": "execute_result",
          "data": {
            "text/plain": [
              "<matplotlib.axes._subplots.AxesSubplot at 0x7f58e2787b90>"
            ]
          },
          "metadata": {
            "tags": []
          },
          "execution_count": 10
        },
        {
          "output_type": "display_data",
          "data": {
            "image/png": "[encoded data removed]",
            "text/plain": [
              "<Figure size 432x288 with 1 Axes>"
            ]
          },
          "metadata": {
            "tags": [],
            "needs_background": "light"
          }
        }
      ]
    },
    {
      "cell_type": "markdown",
      "metadata": {
        "id": "wEkwJY_bWqqu"
      },
      "source": [
        "# Pandas ile Korelasyon Analizi\n",
        "* Default olarak pearson korelasyon katsayısını kullanır."
      ]
    },
    {
      "cell_type": "markdown",
      "metadata": {
        "id": "Xk1297thYMJP"
      },
      "source": [
        "## Pozitif İlişki"
      ]
    },
    {
      "cell_type": "code",
      "metadata": {
        "colab": {
          "base_uri": "https://localhost:8080/"
        },
        "id": "4ee7YjSzMqLy",
        "outputId": "6262a763-edb0-4134-af00-f8b68bfa8a8b"
      },
      "source": [
        "pozitif_corr['dondurma_satisi'].corr(pozitif_corr['sicaklik'])"
      ],
      "execution_count": 11,
      "outputs": [
        {
          "output_type": "execute_result",
          "data": {
            "text/plain": [
              "0.918511316405559"
            ]
          },
          "metadata": {
            "tags": []
          },
          "execution_count": 11
        }
      ]
    },
    {
      "cell_type": "code",
      "metadata": {
        "colab": {
          "base_uri": "https://localhost:8080/",
          "height": 111
        },
        "id": "P2rDNKBBW4H9",
        "outputId": "06703e1a-6297-4b2f-fa6d-e99b0292c180"
      },
      "source": [
        "pozitif_corr.corr()"
      ],
      "execution_count": 12,
      "outputs": [
        {
          "output_type": "execute_result",
          "data": {
            "text/html": [
              "<div>\n",
              "<style scoped>\n",
              "    .dataframe tbody tr th:only-of-type {\n",
              "        vertical-align: middle;\n",
              "    }\n",
              "\n",
              "    .dataframe tbody tr th {\n",
              "        vertical-align: top;\n",
              "    }\n",
              "\n",
              "    .dataframe thead th {\n",
              "        text-align: right;\n",
              "    }\n",
              "</style>\n",
              "<table border=\"1\" class=\"dataframe\">\n",
              "  <thead>\n",
              "    <tr style=\"text-align: right;\">\n",
              "      <th></th>\n",
              "      <th>sicaklik</th>\n",
              "      <th>dondurma_satisi</th>\n",
              "    </tr>\n",
              "  </thead>\n",
              "  <tbody>\n",
              "    <tr>\n",
              "      <th>sicaklik</th>\n",
              "      <td>1.000000</td>\n",
              "      <td>0.918511</td>\n",
              "    </tr>\n",
              "    <tr>\n",
              "      <th>dondurma_satisi</th>\n",
              "      <td>0.918511</td>\n",
              "      <td>1.000000</td>\n",
              "    </tr>\n",
              "  </tbody>\n",
              "</table>\n",
              "</div>"
            ],
            "text/plain": [
              "                 sicaklik  dondurma_satisi\n",
              "sicaklik         1.000000         0.918511\n",
              "dondurma_satisi  0.918511         1.000000"
            ]
          },
          "metadata": {
            "tags": []
          },
          "execution_count": 12
        }
      ]
    },
    {
      "cell_type": "markdown",
      "metadata": {
        "id": "FKzxrX7oXHzb"
      },
      "source": [
        "* Spearman Katsayısı"
      ]
    },
    {
      "cell_type": "code",
      "metadata": {
        "colab": {
          "base_uri": "https://localhost:8080/"
        },
        "id": "F2IIIztbW8B2",
        "outputId": "312b8d10-9a25-42d3-d200-fb5db3632b7f"
      },
      "source": [
        "pozitif_corr['dondurma_satisi'].corr(pozitif_corr['sicaklik'],method='spearman')"
      ],
      "execution_count": 13,
      "outputs": [
        {
          "output_type": "execute_result",
          "data": {
            "text/plain": [
              "0.9015021185424552"
            ]
          },
          "metadata": {
            "tags": []
          },
          "execution_count": 13
        }
      ]
    },
    {
      "cell_type": "code",
      "metadata": {
        "colab": {
          "base_uri": "https://localhost:8080/",
          "height": 111
        },
        "id": "RieH1xIBXRcH",
        "outputId": "c254aaed-d2f8-4125-c3d5-76c99ca8e142"
      },
      "source": [
        "pozitif_corr.corr(method='spearman')"
      ],
      "execution_count": 14,
      "outputs": [
        {
          "output_type": "execute_result",
          "data": {
            "text/html": [
              "<div>\n",
              "<style scoped>\n",
              "    .dataframe tbody tr th:only-of-type {\n",
              "        vertical-align: middle;\n",
              "    }\n",
              "\n",
              "    .dataframe tbody tr th {\n",
              "        vertical-align: top;\n",
              "    }\n",
              "\n",
              "    .dataframe thead th {\n",
              "        text-align: right;\n",
              "    }\n",
              "</style>\n",
              "<table border=\"1\" class=\"dataframe\">\n",
              "  <thead>\n",
              "    <tr style=\"text-align: right;\">\n",
              "      <th></th>\n",
              "      <th>sicaklik</th>\n",
              "      <th>dondurma_satisi</th>\n",
              "    </tr>\n",
              "  </thead>\n",
              "  <tbody>\n",
              "    <tr>\n",
              "      <th>sicaklik</th>\n",
              "      <td>1.000000</td>\n",
              "      <td>0.901502</td>\n",
              "    </tr>\n",
              "    <tr>\n",
              "      <th>dondurma_satisi</th>\n",
              "      <td>0.901502</td>\n",
              "      <td>1.000000</td>\n",
              "    </tr>\n",
              "  </tbody>\n",
              "</table>\n",
              "</div>"
            ],
            "text/plain": [
              "                 sicaklik  dondurma_satisi\n",
              "sicaklik         1.000000         0.901502\n",
              "dondurma_satisi  0.901502         1.000000"
            ]
          },
          "metadata": {
            "tags": []
          },
          "execution_count": 14
        }
      ]
    },
    {
      "cell_type": "markdown",
      "metadata": {
        "id": "hD0MFIRyXWxg"
      },
      "source": [
        "* Kendall Katsayısı"
      ]
    },
    {
      "cell_type": "code",
      "metadata": {
        "colab": {
          "base_uri": "https://localhost:8080/"
        },
        "id": "PJX4654aXVRX",
        "outputId": "6776441b-5773-4277-baf1-cbbc2dfbaac6"
      },
      "source": [
        "pozitif_corr['dondurma_satisi'].corr(pozitif_corr['sicaklik'],method='kendall')"
      ],
      "execution_count": 15,
      "outputs": [
        {
          "output_type": "execute_result",
          "data": {
            "text/plain": [
              "0.7683069659820713"
            ]
          },
          "metadata": {
            "tags": []
          },
          "execution_count": 15
        }
      ]
    },
    {
      "cell_type": "code",
      "metadata": {
        "colab": {
          "base_uri": "https://localhost:8080/",
          "height": 111
        },
        "id": "Hq6UZ1ShXcT2",
        "outputId": "c94bfbd3-e0a3-4daa-a9e9-2b16f8447038"
      },
      "source": [
        "pozitif_corr.corr(method='kendall')"
      ],
      "execution_count": 16,
      "outputs": [
        {
          "output_type": "execute_result",
          "data": {
            "text/html": [
              "<div>\n",
              "<style scoped>\n",
              "    .dataframe tbody tr th:only-of-type {\n",
              "        vertical-align: middle;\n",
              "    }\n",
              "\n",
              "    .dataframe tbody tr th {\n",
              "        vertical-align: top;\n",
              "    }\n",
              "\n",
              "    .dataframe thead th {\n",
              "        text-align: right;\n",
              "    }\n",
              "</style>\n",
              "<table border=\"1\" class=\"dataframe\">\n",
              "  <thead>\n",
              "    <tr style=\"text-align: right;\">\n",
              "      <th></th>\n",
              "      <th>sicaklik</th>\n",
              "      <th>dondurma_satisi</th>\n",
              "    </tr>\n",
              "  </thead>\n",
              "  <tbody>\n",
              "    <tr>\n",
              "      <th>sicaklik</th>\n",
              "      <td>1.000000</td>\n",
              "      <td>0.768307</td>\n",
              "    </tr>\n",
              "    <tr>\n",
              "      <th>dondurma_satisi</th>\n",
              "      <td>0.768307</td>\n",
              "      <td>1.000000</td>\n",
              "    </tr>\n",
              "  </tbody>\n",
              "</table>\n",
              "</div>"
            ],
            "text/plain": [
              "                 sicaklik  dondurma_satisi\n",
              "sicaklik         1.000000         0.768307\n",
              "dondurma_satisi  0.768307         1.000000"
            ]
          },
          "metadata": {
            "tags": []
          },
          "execution_count": 16
        }
      ]
    },
    {
      "cell_type": "markdown",
      "metadata": {
        "id": "a4uWwRYNYSbL"
      },
      "source": [
        "## Negatif İlişki"
      ]
    },
    {
      "cell_type": "code",
      "metadata": {
        "colab": {
          "base_uri": "https://localhost:8080/",
          "height": 111
        },
        "id": "sEFqTGuUYUuG",
        "outputId": "68c09d7b-5ac2-471d-cb34-999bf873d98c"
      },
      "source": [
        "negatif_corr.corr()"
      ],
      "execution_count": 21,
      "outputs": [
        {
          "output_type": "execute_result",
          "data": {
            "text/html": [
              "<div>\n",
              "<style scoped>\n",
              "    .dataframe tbody tr th:only-of-type {\n",
              "        vertical-align: middle;\n",
              "    }\n",
              "\n",
              "    .dataframe tbody tr th {\n",
              "        vertical-align: top;\n",
              "    }\n",
              "\n",
              "    .dataframe thead th {\n",
              "        text-align: right;\n",
              "    }\n",
              "</style>\n",
              "<table border=\"1\" class=\"dataframe\">\n",
              "  <thead>\n",
              "    <tr style=\"text-align: right;\">\n",
              "      <th></th>\n",
              "      <th>mutluluk</th>\n",
              "      <th>kaygı_seviyesi</th>\n",
              "    </tr>\n",
              "  </thead>\n",
              "  <tbody>\n",
              "    <tr>\n",
              "      <th>mutluluk</th>\n",
              "      <td>1.000000</td>\n",
              "      <td>-0.926889</td>\n",
              "    </tr>\n",
              "    <tr>\n",
              "      <th>kaygı_seviyesi</th>\n",
              "      <td>-0.926889</td>\n",
              "      <td>1.000000</td>\n",
              "    </tr>\n",
              "  </tbody>\n",
              "</table>\n",
              "</div>"
            ],
            "text/plain": [
              "                mutluluk  kaygı_seviyesi\n",
              "mutluluk        1.000000       -0.926889\n",
              "kaygı_seviyesi -0.926889        1.000000"
            ]
          },
          "metadata": {
            "tags": []
          },
          "execution_count": 21
        }
      ]
    },
    {
      "cell_type": "code",
      "metadata": {
        "colab": {
          "base_uri": "https://localhost:8080/",
          "height": 111
        },
        "id": "TXnuD90DYUsB",
        "outputId": "759549fd-a3dd-496b-a7eb-9b5746d68821"
      },
      "source": [
        "negatif_corr.corr(method='spearman')"
      ],
      "execution_count": 22,
      "outputs": [
        {
          "output_type": "execute_result",
          "data": {
            "text/html": [
              "<div>\n",
              "<style scoped>\n",
              "    .dataframe tbody tr th:only-of-type {\n",
              "        vertical-align: middle;\n",
              "    }\n",
              "\n",
              "    .dataframe tbody tr th {\n",
              "        vertical-align: top;\n",
              "    }\n",
              "\n",
              "    .dataframe thead th {\n",
              "        text-align: right;\n",
              "    }\n",
              "</style>\n",
              "<table border=\"1\" class=\"dataframe\">\n",
              "  <thead>\n",
              "    <tr style=\"text-align: right;\">\n",
              "      <th></th>\n",
              "      <th>mutluluk</th>\n",
              "      <th>kaygı_seviyesi</th>\n",
              "    </tr>\n",
              "  </thead>\n",
              "  <tbody>\n",
              "    <tr>\n",
              "      <th>mutluluk</th>\n",
              "      <td>1.000000</td>\n",
              "      <td>-0.950099</td>\n",
              "    </tr>\n",
              "    <tr>\n",
              "      <th>kaygı_seviyesi</th>\n",
              "      <td>-0.950099</td>\n",
              "      <td>1.000000</td>\n",
              "    </tr>\n",
              "  </tbody>\n",
              "</table>\n",
              "</div>"
            ],
            "text/plain": [
              "                mutluluk  kaygı_seviyesi\n",
              "mutluluk        1.000000       -0.950099\n",
              "kaygı_seviyesi -0.950099        1.000000"
            ]
          },
          "metadata": {
            "tags": []
          },
          "execution_count": 22
        }
      ]
    },
    {
      "cell_type": "code",
      "metadata": {
        "colab": {
          "base_uri": "https://localhost:8080/",
          "height": 111
        },
        "id": "PPl0rxG6YcDF",
        "outputId": "63a0ef3a-6a4e-4da7-b777-2b655a09875d"
      },
      "source": [
        "negatif_corr.corr(method='kendall')"
      ],
      "execution_count": 23,
      "outputs": [
        {
          "output_type": "execute_result",
          "data": {
            "text/html": [
              "<div>\n",
              "<style scoped>\n",
              "    .dataframe tbody tr th:only-of-type {\n",
              "        vertical-align: middle;\n",
              "    }\n",
              "\n",
              "    .dataframe tbody tr th {\n",
              "        vertical-align: top;\n",
              "    }\n",
              "\n",
              "    .dataframe thead th {\n",
              "        text-align: right;\n",
              "    }\n",
              "</style>\n",
              "<table border=\"1\" class=\"dataframe\">\n",
              "  <thead>\n",
              "    <tr style=\"text-align: right;\">\n",
              "      <th></th>\n",
              "      <th>mutluluk</th>\n",
              "      <th>kaygı_seviyesi</th>\n",
              "    </tr>\n",
              "  </thead>\n",
              "  <tbody>\n",
              "    <tr>\n",
              "      <th>mutluluk</th>\n",
              "      <td>1.000000</td>\n",
              "      <td>-0.866887</td>\n",
              "    </tr>\n",
              "    <tr>\n",
              "      <th>kaygı_seviyesi</th>\n",
              "      <td>-0.866887</td>\n",
              "      <td>1.000000</td>\n",
              "    </tr>\n",
              "  </tbody>\n",
              "</table>\n",
              "</div>"
            ],
            "text/plain": [
              "                mutluluk  kaygı_seviyesi\n",
              "mutluluk        1.000000       -0.866887\n",
              "kaygı_seviyesi -0.866887        1.000000"
            ]
          },
          "metadata": {
            "tags": []
          },
          "execution_count": 23
        }
      ]
    },
    {
      "cell_type": "markdown",
      "metadata": {
        "id": "A_WilgIjYnBd"
      },
      "source": [
        "##İlişki Yok"
      ]
    },
    {
      "cell_type": "code",
      "metadata": {
        "colab": {
          "base_uri": "https://localhost:8080/",
          "height": 111
        },
        "id": "KVSBP8o0YmI-",
        "outputId": "b2a0887b-a540-4500-8a79-f532490fe78d"
      },
      "source": [
        "nötr_corr.corr()"
      ],
      "execution_count": 24,
      "outputs": [
        {
          "output_type": "execute_result",
          "data": {
            "text/html": [
              "<div>\n",
              "<style scoped>\n",
              "    .dataframe tbody tr th:only-of-type {\n",
              "        vertical-align: middle;\n",
              "    }\n",
              "\n",
              "    .dataframe tbody tr th {\n",
              "        vertical-align: top;\n",
              "    }\n",
              "\n",
              "    .dataframe thead th {\n",
              "        text-align: right;\n",
              "    }\n",
              "</style>\n",
              "<table border=\"1\" class=\"dataframe\">\n",
              "  <thead>\n",
              "    <tr style=\"text-align: right;\">\n",
              "      <th></th>\n",
              "      <th>tv_izleme_suresi</th>\n",
              "      <th>elbise_satisi</th>\n",
              "    </tr>\n",
              "  </thead>\n",
              "  <tbody>\n",
              "    <tr>\n",
              "      <th>tv_izleme_suresi</th>\n",
              "      <td>1.000000</td>\n",
              "      <td>0.307606</td>\n",
              "    </tr>\n",
              "    <tr>\n",
              "      <th>elbise_satisi</th>\n",
              "      <td>0.307606</td>\n",
              "      <td>1.000000</td>\n",
              "    </tr>\n",
              "  </tbody>\n",
              "</table>\n",
              "</div>"
            ],
            "text/plain": [
              "                  tv_izleme_suresi  elbise_satisi\n",
              "tv_izleme_suresi          1.000000       0.307606\n",
              "elbise_satisi             0.307606       1.000000"
            ]
          },
          "metadata": {
            "tags": []
          },
          "execution_count": 24
        }
      ]
    },
    {
      "cell_type": "code",
      "metadata": {
        "colab": {
          "base_uri": "https://localhost:8080/",
          "height": 111
        },
        "id": "IW9MaNluYrrW",
        "outputId": "2ed7c5bc-138e-4944-8927-16464efa18ab"
      },
      "source": [
        "nötr_corr.corr(method='spearman')"
      ],
      "execution_count": 25,
      "outputs": [
        {
          "output_type": "execute_result",
          "data": {
            "text/html": [
              "<div>\n",
              "<style scoped>\n",
              "    .dataframe tbody tr th:only-of-type {\n",
              "        vertical-align: middle;\n",
              "    }\n",
              "\n",
              "    .dataframe tbody tr th {\n",
              "        vertical-align: top;\n",
              "    }\n",
              "\n",
              "    .dataframe thead th {\n",
              "        text-align: right;\n",
              "    }\n",
              "</style>\n",
              "<table border=\"1\" class=\"dataframe\">\n",
              "  <thead>\n",
              "    <tr style=\"text-align: right;\">\n",
              "      <th></th>\n",
              "      <th>tv_izleme_suresi</th>\n",
              "      <th>elbise_satisi</th>\n",
              "    </tr>\n",
              "  </thead>\n",
              "  <tbody>\n",
              "    <tr>\n",
              "      <th>tv_izleme_suresi</th>\n",
              "      <td>1.000000</td>\n",
              "      <td>0.352407</td>\n",
              "    </tr>\n",
              "    <tr>\n",
              "      <th>elbise_satisi</th>\n",
              "      <td>0.352407</td>\n",
              "      <td>1.000000</td>\n",
              "    </tr>\n",
              "  </tbody>\n",
              "</table>\n",
              "</div>"
            ],
            "text/plain": [
              "                  tv_izleme_suresi  elbise_satisi\n",
              "tv_izleme_suresi          1.000000       0.352407\n",
              "elbise_satisi             0.352407       1.000000"
            ]
          },
          "metadata": {
            "tags": []
          },
          "execution_count": 25
        }
      ]
    },
    {
      "cell_type": "code",
      "metadata": {
        "colab": {
          "base_uri": "https://localhost:8080/",
          "height": 111
        },
        "id": "75CipbMEYroh",
        "outputId": "a127f9f3-0a8f-4590-ac26-b4d43665563b"
      },
      "source": [
        "nötr_corr.corr(method='kendall')"
      ],
      "execution_count": 26,
      "outputs": [
        {
          "output_type": "execute_result",
          "data": {
            "text/html": [
              "<div>\n",
              "<style scoped>\n",
              "    .dataframe tbody tr th:only-of-type {\n",
              "        vertical-align: middle;\n",
              "    }\n",
              "\n",
              "    .dataframe tbody tr th {\n",
              "        vertical-align: top;\n",
              "    }\n",
              "\n",
              "    .dataframe thead th {\n",
              "        text-align: right;\n",
              "    }\n",
              "</style>\n",
              "<table border=\"1\" class=\"dataframe\">\n",
              "  <thead>\n",
              "    <tr style=\"text-align: right;\">\n",
              "      <th></th>\n",
              "      <th>tv_izleme_suresi</th>\n",
              "      <th>elbise_satisi</th>\n",
              "    </tr>\n",
              "  </thead>\n",
              "  <tbody>\n",
              "    <tr>\n",
              "      <th>tv_izleme_suresi</th>\n",
              "      <td>1.000000</td>\n",
              "      <td>0.254179</td>\n",
              "    </tr>\n",
              "    <tr>\n",
              "      <th>elbise_satisi</th>\n",
              "      <td>0.254179</td>\n",
              "      <td>1.000000</td>\n",
              "    </tr>\n",
              "  </tbody>\n",
              "</table>\n",
              "</div>"
            ],
            "text/plain": [
              "                  tv_izleme_suresi  elbise_satisi\n",
              "tv_izleme_suresi          1.000000       0.254179\n",
              "elbise_satisi             0.254179       1.000000"
            ]
          },
          "metadata": {
            "tags": []
          },
          "execution_count": 26
        }
      ]
    },
    {
      "cell_type": "markdown",
      "metadata": {
        "id": "lhWrtSuVXmZv"
      },
      "source": [
        "# SciPy ile Korelasyon Analizi"
      ]
    },
    {
      "cell_type": "code",
      "metadata": {
        "id": "YwoYFx46Xfuu"
      },
      "source": [
        "import scipy.stats"
      ],
      "execution_count": 17,
      "outputs": []
    },
    {
      "cell_type": "markdown",
      "metadata": {
        "id": "btumOd1KZOO0"
      },
      "source": [
        "* Pearson Katsayısı"
      ]
    },
    {
      "cell_type": "code",
      "metadata": {
        "colab": {
          "base_uri": "https://localhost:8080/"
        },
        "id": "Ow52hevyXsNf",
        "outputId": "d9a36a66-b038-4a7f-db76-354970467a15"
      },
      "source": [
        "r, p = scipy.stats.pearsonr(pozitif_corr['sicaklik'], pozitif_corr['dondurma_satisi'])\n",
        "print(r,p)"
      ],
      "execution_count": 19,
      "outputs": [
        {
          "output_type": "stream",
          "text": [
            "0.9185113164055592 2.901513894542322e-08\n"
          ],
          "name": "stdout"
        }
      ]
    },
    {
      "cell_type": "code",
      "metadata": {
        "colab": {
          "base_uri": "https://localhost:8080/"
        },
        "id": "wSS0lx5gX91f",
        "outputId": "7f64efa1-b056-42c7-c6a6-315dd416331b"
      },
      "source": [
        "np.corrcoef(pozitif_corr['sicaklik'], pozitif_corr['dondurma_satisi'])"
      ],
      "execution_count": 20,
      "outputs": [
        {
          "output_type": "execute_result",
          "data": {
            "text/plain": [
              "array([[1.        , 0.91851132],\n",
              "       [0.91851132, 1.        ]])"
            ]
          },
          "metadata": {
            "tags": []
          },
          "execution_count": 20
        }
      ]
    },
    {
      "cell_type": "markdown",
      "metadata": {
        "id": "wCf3hbCYZQ1k"
      },
      "source": [
        "* Spearman Katsayısı"
      ]
    },
    {
      "cell_type": "code",
      "metadata": {
        "colab": {
          "base_uri": "https://localhost:8080/"
        },
        "id": "mjBJVakoYIhv",
        "outputId": "22ad383b-b41e-4d54-9fb6-b700cdc3566b"
      },
      "source": [
        "r, p = scipy.stats.spearmanr(negatif_corr['kaygı_seviyesi'], negatif_corr['mutluluk'])\n",
        "print(r,p)"
      ],
      "execution_count": 27,
      "outputs": [
        {
          "output_type": "stream",
          "text": [
            "-0.9500986162296566 1.5195514411700465e-10\n"
          ],
          "name": "stdout"
        }
      ]
    },
    {
      "cell_type": "code",
      "metadata": {
        "colab": {
          "base_uri": "https://localhost:8080/"
        },
        "id": "TDDanTX1Zoi3",
        "outputId": "592992b5-949d-432c-a9a2-9bedf48cd672"
      },
      "source": [
        "np.corrcoef(negatif_corr['kaygı_seviyesi'], negatif_corr['mutluluk'])"
      ],
      "execution_count": 28,
      "outputs": [
        {
          "output_type": "execute_result",
          "data": {
            "text/plain": [
              "array([[ 1.        , -0.92688889],\n",
              "       [-0.92688889,  1.        ]])"
            ]
          },
          "metadata": {
            "tags": []
          },
          "execution_count": 28
        }
      ]
    },
    {
      "cell_type": "markdown",
      "metadata": {
        "id": "pU0FlyEQc4m5"
      },
      "source": [
        "# Korelasyon Isı Haritalarının İncelenmesi\n"
      ]
    },
    {
      "cell_type": "code",
      "metadata": {
        "colab": {
          "base_uri": "https://localhost:8080/",
          "height": 293
        },
        "id": "n7A3g7VIdPos",
        "outputId": "95c24418-6a02-4aff-a6d3-eb6aa8a2b400"
      },
      "source": [
        "sns.heatmap(pozitif_corr.corr())"
      ],
      "execution_count": 32,
      "outputs": [
        {
          "output_type": "execute_result",
          "data": {
            "text/plain": [
              "<matplotlib.axes._subplots.AxesSubplot at 0x7f58dcfc39d0>"
            ]
          },
          "metadata": {
            "tags": []
          },
          "execution_count": 32
        },
        {
          "output_type": "display_data",
          "data": {
            "image/png": "[encoded data removed]",
            "text/plain": [
              "<Figure size 432x288 with 2 Axes>"
            ]
          },
          "metadata": {
            "tags": [],
            "needs_background": "light"
          }
        }
      ]
    },
    {
      "cell_type": "code",
      "metadata": {
        "colab": {
          "base_uri": "https://localhost:8080/",
          "height": 287
        },
        "id": "dY-zf58zc-pw",
        "outputId": "087f2a4e-edad-401f-92ed-bea86e1264db"
      },
      "source": [
        "sns.heatmap(negatif_corr.corr())"
      ],
      "execution_count": 33,
      "outputs": [
        {
          "output_type": "execute_result",
          "data": {
            "text/plain": [
              "<matplotlib.axes._subplots.AxesSubplot at 0x7f58d45e54d0>"
            ]
          },
          "metadata": {
            "tags": []
          },
          "execution_count": 33
        },
        {
          "output_type": "display_data",
          "data": {
            "image/png": "[encoded data removed]",
            "text/plain": [
              "<Figure size 432x288 with 2 Axes>"
            ]
          },
          "metadata": {
            "tags": [],
            "needs_background": "light"
          }
        }
      ]
    },
    {
      "cell_type": "code",
      "metadata": {
        "colab": {
          "base_uri": "https://localhost:8080/",
          "height": 287
        },
        "id": "UGTgaVh4c-ng",
        "outputId": "b42e4f68-9399-483c-8c5b-3b2ead0889f4"
      },
      "source": [
        "sns.heatmap(nötr_corr.corr())"
      ],
      "execution_count": 34,
      "outputs": [
        {
          "output_type": "execute_result",
          "data": {
            "text/plain": [
              "<matplotlib.axes._subplots.AxesSubplot at 0x7f58d457fa90>"
            ]
          },
          "metadata": {
            "tags": []
          },
          "execution_count": 34
        },
        {
          "output_type": "display_data",
          "data": {
            "image/png": "[encoded data removed]",
            "text/plain": [
              "<Figure size 432x288 with 2 Axes>"
            ]
          },
          "metadata": {
            "tags": [],
            "needs_background": "light"
          }
        }
      ]
    },
    {
      "cell_type": "markdown",
      "metadata": {
        "id": "Hmv6T7fOe5CP"
      },
      "source": [
        "# Kısmi Korelasyonun hesaplanması"
      ]
    },
    {
      "cell_type": "code",
      "metadata": {
        "colab": {
          "base_uri": "https://localhost:8080/",
          "height": 204
        },
        "id": "Z48kSraEc-lb",
        "outputId": "6d6a9d05-ddd3-4c48-c3b1-4ea8418b2487"
      },
      "source": [
        "partial_corr= pd.DataFrame({'sicaklik':[28,33,17,25,13,27,14,30,15,14,33,32,19,11,14,17,34,24,27,33,30,28,27,24,23],\n",
        "                            'dondurma_satisi': [8,10,2,5,3,11,1,15,2,4,10,12,4,0,1,2,15,6,8,11,13,14,20,15,13],\n",
        "                            'turist':[50,40,26,52,20,19,33,42,26,35,41,22,34,36,20,30,10,40,35,36,25,34,22,40,25]})\n",
        "partial_corr.head()"
      ],
      "execution_count": 38,
      "outputs": [
        {
          "output_type": "execute_result",
          "data": {
            "text/html": [
              "<div>\n",
              "<style scoped>\n",
              "    .dataframe tbody tr th:only-of-type {\n",
              "        vertical-align: middle;\n",
              "    }\n",
              "\n",
              "    .dataframe tbody tr th {\n",
              "        vertical-align: top;\n",
              "    }\n",
              "\n",
              "    .dataframe thead th {\n",
              "        text-align: right;\n",
              "    }\n",
              "</style>\n",
              "<table border=\"1\" class=\"dataframe\">\n",
              "  <thead>\n",
              "    <tr style=\"text-align: right;\">\n",
              "      <th></th>\n",
              "      <th>sicaklik</th>\n",
              "      <th>dondurma_satisi</th>\n",
              "      <th>turist</th>\n",
              "    </tr>\n",
              "  </thead>\n",
              "  <tbody>\n",
              "    <tr>\n",
              "      <th>0</th>\n",
              "      <td>28</td>\n",
              "      <td>8</td>\n",
              "      <td>50</td>\n",
              "    </tr>\n",
              "    <tr>\n",
              "      <th>1</th>\n",
              "      <td>33</td>\n",
              "      <td>10</td>\n",
              "      <td>40</td>\n",
              "    </tr>\n",
              "    <tr>\n",
              "      <th>2</th>\n",
              "      <td>17</td>\n",
              "      <td>2</td>\n",
              "      <td>26</td>\n",
              "    </tr>\n",
              "    <tr>\n",
              "      <th>3</th>\n",
              "      <td>25</td>\n",
              "      <td>5</td>\n",
              "      <td>52</td>\n",
              "    </tr>\n",
              "    <tr>\n",
              "      <th>4</th>\n",
              "      <td>13</td>\n",
              "      <td>3</td>\n",
              "      <td>20</td>\n",
              "    </tr>\n",
              "  </tbody>\n",
              "</table>\n",
              "</div>"
            ],
            "text/plain": [
              "   sicaklik  dondurma_satisi  turist\n",
              "0        28                8      50\n",
              "1        33               10      40\n",
              "2        17                2      26\n",
              "3        25                5      52\n",
              "4        13                3      20"
            ]
          },
          "metadata": {
            "tags": []
          },
          "execution_count": 38
        }
      ]
    },
    {
      "cell_type": "code",
      "metadata": {
        "colab": {
          "base_uri": "https://localhost:8080/"
        },
        "id": "sVgG6uPQc-jV",
        "outputId": "4bf10f22-2a93-447b-e5fe-c9bf686f319a"
      },
      "source": [
        "partial_corr.info()"
      ],
      "execution_count": 39,
      "outputs": [
        {
          "output_type": "stream",
          "text": [
            "<class 'pandas.core.frame.DataFrame'>\n",
            "RangeIndex: 25 entries, 0 to 24\n",
            "Data columns (total 3 columns):\n",
            " #   Column           Non-Null Count  Dtype\n",
            "---  ------           --------------  -----\n",
            " 0   sicaklik         25 non-null     int64\n",
            " 1   dondurma_satisi  25 non-null     int64\n",
            " 2   turist           25 non-null     int64\n",
            "dtypes: int64(3)\n",
            "memory usage: 728.0 bytes\n"
          ],
          "name": "stdout"
        }
      ]
    },
    {
      "cell_type": "code",
      "metadata": {
        "colab": {
          "base_uri": "https://localhost:8080/",
          "height": 142
        },
        "id": "zhoRwblthSKQ",
        "outputId": "c0535bb7-beef-4cd1-86ae-97c02169fa17"
      },
      "source": [
        "partial_corr.corr()"
      ],
      "execution_count": 40,
      "outputs": [
        {
          "output_type": "execute_result",
          "data": {
            "text/html": [
              "<div>\n",
              "<style scoped>\n",
              "    .dataframe tbody tr th:only-of-type {\n",
              "        vertical-align: middle;\n",
              "    }\n",
              "\n",
              "    .dataframe tbody tr th {\n",
              "        vertical-align: top;\n",
              "    }\n",
              "\n",
              "    .dataframe thead th {\n",
              "        text-align: right;\n",
              "    }\n",
              "</style>\n",
              "<table border=\"1\" class=\"dataframe\">\n",
              "  <thead>\n",
              "    <tr style=\"text-align: right;\">\n",
              "      <th></th>\n",
              "      <th>sicaklik</th>\n",
              "      <th>dondurma_satisi</th>\n",
              "      <th>turist</th>\n",
              "    </tr>\n",
              "  </thead>\n",
              "  <tbody>\n",
              "    <tr>\n",
              "      <th>sicaklik</th>\n",
              "      <td>1.000000</td>\n",
              "      <td>0.792948</td>\n",
              "      <td>0.116794</td>\n",
              "    </tr>\n",
              "    <tr>\n",
              "      <th>dondurma_satisi</th>\n",
              "      <td>0.792948</td>\n",
              "      <td>1.000000</td>\n",
              "      <td>-0.105699</td>\n",
              "    </tr>\n",
              "    <tr>\n",
              "      <th>turist</th>\n",
              "      <td>0.116794</td>\n",
              "      <td>-0.105699</td>\n",
              "      <td>1.000000</td>\n",
              "    </tr>\n",
              "  </tbody>\n",
              "</table>\n",
              "</div>"
            ],
            "text/plain": [
              "                 sicaklik  dondurma_satisi    turist\n",
              "sicaklik         1.000000         0.792948  0.116794\n",
              "dondurma_satisi  0.792948         1.000000 -0.105699\n",
              "turist           0.116794        -0.105699  1.000000"
            ]
          },
          "metadata": {
            "tags": []
          },
          "execution_count": 40
        }
      ]
    },
    {
      "cell_type": "code",
      "metadata": {
        "colab": {
          "base_uri": "https://localhost:8080/",
          "height": 287
        },
        "id": "qpKA9OyDhpbQ",
        "outputId": "0e9b0b1e-a384-4e2e-fad1-b2f183d67e27"
      },
      "source": [
        "sns.heatmap(partial_corr.corr())"
      ],
      "execution_count": 41,
      "outputs": [
        {
          "output_type": "execute_result",
          "data": {
            "text/plain": [
              "<matplotlib.axes._subplots.AxesSubplot at 0x7f58d4425fd0>"
            ]
          },
          "metadata": {
            "tags": []
          },
          "execution_count": 41
        },
        {
          "output_type": "display_data",
          "data": {
            "image/png": "[encoded data removed]",
            "text/plain": [
              "<Figure size 432x288 with 2 Axes>"
            ]
          },
          "metadata": {
            "tags": [],
            "needs_background": "light"
          }
        }
      ]
    },
    {
      "cell_type": "code",
      "metadata": {
        "colab": {
          "base_uri": "https://localhost:8080/"
        },
        "id": "zJ8rVR0biJSm",
        "outputId": "85e867aa-aff6-440b-ea66-fcaa8b1f77b2"
      },
      "source": [
        "! pip install pingouin"
      ],
      "execution_count": 43,
      "outputs": [
        {
          "output_type": "stream",
          "text": [
            "Collecting pingouin\n",
            "  Downloading pingouin-0.3.12.tar.gz (205 kB)\n",
            "\u001b[?25l\r\u001b[K     |█▋                              | 10 kB 26.4 MB/s eta 0:00:01\r\u001b[K     |███▏                            | 20 kB 29.3 MB/s eta 0:00:01\r\u001b[K     |████▉                           | 30 kB 19.3 MB/s eta 0:00:01\r\u001b[K     |██████▍                         | 40 kB 16.1 MB/s eta 0:00:01\r\u001b[K     |████████                        | 51 kB 7.3 MB/s eta 0:00:01\r\u001b[K     |█████████▋                      | 61 kB 8.4 MB/s eta 0:00:01\r\u001b[K     |███████████▏                    | 71 kB 7.7 MB/s eta 0:00:01\r\u001b[K     |████████████▉                   | 81 kB 8.6 MB/s eta 0:00:01\r\u001b[K     |██████████████▍                 | 92 kB 9.4 MB/s eta 0:00:01\r\u001b[K     |████████████████                | 102 kB 7.1 MB/s eta 0:00:01\r\u001b[K     |█████████████████▋              | 112 kB 7.1 MB/s eta 0:00:01\r\u001b[K     |███████████████████▏            | 122 kB 7.1 MB/s eta 0:00:01\r\u001b[K     |████████████████████▊           | 133 kB 7.1 MB/s eta 0:00:01\r\u001b[K     |██████████████████████▍         | 143 kB 7.1 MB/s eta 0:00:01\r\u001b[K     |████████████████████████        | 153 kB 7.1 MB/s eta 0:00:01\r\u001b[K     |█████████████████████████▋      | 163 kB 7.1 MB/s eta 0:00:01\r\u001b[K     |███████████████████████████▏    | 174 kB 7.1 MB/s eta 0:00:01\r\u001b[K     |████████████████████████████▊   | 184 kB 7.1 MB/s eta 0:00:01\r\u001b[K     |██████████████████████████████▍ | 194 kB 7.1 MB/s eta 0:00:01\r\u001b[K     |████████████████████████████████| 204 kB 7.1 MB/s eta 0:00:01\r\u001b[K     |████████████████████████████████| 205 kB 7.1 MB/s \n",
            "\u001b[?25hRequirement already satisfied: numpy>=1.15 in /usr/local/lib/python3.7/dist-packages (from pingouin) (1.19.5)\n",
            "Requirement already satisfied: scipy>=1.3 in /usr/local/lib/python3.7/dist-packages (from pingouin) (1.4.1)\n",
            "Requirement already satisfied: pandas>=0.24 in /usr/local/lib/python3.7/dist-packages (from pingouin) (1.1.5)\n",
            "Requirement already satisfied: matplotlib>=3.0.2 in /usr/local/lib/python3.7/dist-packages (from pingouin) (3.2.2)\n",
            "Requirement already satisfied: seaborn>=0.9.0 in /usr/local/lib/python3.7/dist-packages (from pingouin) (0.11.1)\n",
            "Requirement already satisfied: statsmodels>=0.10.0 in /usr/local/lib/python3.7/dist-packages (from pingouin) (0.10.2)\n",
            "Requirement already satisfied: scikit-learn in /usr/local/lib/python3.7/dist-packages (from pingouin) (0.22.2.post1)\n",
            "Collecting pandas_flavor>=0.1.2\n",
            "  Downloading pandas_flavor-0.2.0-py2.py3-none-any.whl (6.6 kB)\n",
            "Collecting outdated\n",
            "  Downloading outdated-0.2.1-py3-none-any.whl (7.5 kB)\n",
            "Requirement already satisfied: tabulate in /usr/local/lib/python3.7/dist-packages (from pingouin) (0.8.9)\n",
            "Requirement already satisfied: cycler>=0.10 in /usr/local/lib/python3.7/dist-packages (from matplotlib>=3.0.2->pingouin) (0.10.0)\n",
            "Requirement already satisfied: kiwisolver>=1.0.1 in /usr/local/lib/python3.7/dist-packages (from matplotlib>=3.0.2->pingouin) (1.3.1)\n",
            "Requirement already satisfied: python-dateutil>=2.1 in /usr/local/lib/python3.7/dist-packages (from matplotlib>=3.0.2->pingouin) (2.8.1)\n",
            "Requirement already satisfied: pyparsing!=2.0.4,!=2.1.2,!=2.1.6,>=2.0.1 in /usr/local/lib/python3.7/dist-packages (from matplotlib>=3.0.2->pingouin) (2.4.7)\n",
            "Requirement already satisfied: six in /usr/local/lib/python3.7/dist-packages (from cycler>=0.10->matplotlib>=3.0.2->pingouin) (1.15.0)\n",
            "Requirement already satisfied: pytz>=2017.2 in /usr/local/lib/python3.7/dist-packages (from pandas>=0.24->pingouin) (2018.9)\n",
            "Requirement already satisfied: xarray in /usr/local/lib/python3.7/dist-packages (from pandas_flavor>=0.1.2->pingouin) (0.18.2)\n",
            "Requirement already satisfied: patsy>=0.4.0 in /usr/local/lib/python3.7/dist-packages (from statsmodels>=0.10.0->pingouin) (0.5.1)\n",
            "Collecting littleutils\n",
            "  Downloading littleutils-0.2.2.tar.gz (6.6 kB)\n",
            "Requirement already satisfied: requests in /usr/local/lib/python3.7/dist-packages (from outdated->pingouin) (2.23.0)\n",
            "Requirement already satisfied: chardet<4,>=3.0.2 in /usr/local/lib/python3.7/dist-packages (from requests->outdated->pingouin) (3.0.4)\n",
            "Requirement already satisfied: idna<3,>=2.5 in /usr/local/lib/python3.7/dist-packages (from requests->outdated->pingouin) (2.10)\n",
            "Requirement already satisfied: certifi>=2017.4.17 in /usr/local/lib/python3.7/dist-packages (from requests->outdated->pingouin) (2021.5.30)\n",
            "Requirement already satisfied: urllib3!=1.25.0,!=1.25.1,<1.26,>=1.21.1 in /usr/local/lib/python3.7/dist-packages (from requests->outdated->pingouin) (1.24.3)\n",
            "Requirement already satisfied: joblib>=0.11 in /usr/local/lib/python3.7/dist-packages (from scikit-learn->pingouin) (1.0.1)\n",
            "Requirement already satisfied: setuptools>=40.4 in /usr/local/lib/python3.7/dist-packages (from xarray->pandas_flavor>=0.1.2->pingouin) (57.2.0)\n",
            "Building wheels for collected packages: pingouin, littleutils\n",
            "  Building wheel for pingouin (setup.py) ... \u001b[?25l\u001b[?25hdone\n",
            "  Created wheel for pingouin: filename=pingouin-0.3.12-py3-none-any.whl size=204754 sha256=a20b3819aef0a95f01f0d53cdc1fbc583086892ca4a57e04b42e28ca56fd7e2f\n",
            "  Stored in directory: /root/.cache/pip/wheels/5b/8a/ed/fafe2714a0f047d64fb582105b174b5e5218c82a0d787bbec4\n",
            "  Building wheel for littleutils (setup.py) ... \u001b[?25l\u001b[?25hdone\n",
            "  Created wheel for littleutils: filename=littleutils-0.2.2-py3-none-any.whl size=7048 sha256=6f232081966474a3ed369f4c6de32bdf155bcbf413925d6a37264c73a370f3ad\n",
            "  Stored in directory: /root/.cache/pip/wheels/d6/64/cd/32819b511a488e4993f2fab909a95330289c3f4e0f6ef4676d\n",
            "Successfully built pingouin littleutils\n",
            "Installing collected packages: littleutils, pandas-flavor, outdated, pingouin\n",
            "Successfully installed littleutils-0.2.2 outdated-0.2.1 pandas-flavor-0.2.0 pingouin-0.3.12\n"
          ],
          "name": "stdout"
        }
      ]
    },
    {
      "cell_type": "code",
      "metadata": {
        "id": "C1mOC9nfhwKH"
      },
      "source": [
        "import pingouin as pg"
      ],
      "execution_count": 44,
      "outputs": []
    },
    {
      "cell_type": "markdown",
      "metadata": {
        "id": "rhj4QenOjD5L"
      },
      "source": [
        "* Daha fazla değişken olduğunda covar=['X1','X2','X3] şeklinde eklemeler yaparak ikili değişkenlerin korelasyonunu inceleyebilirsiniz."
      ]
    },
    {
      "cell_type": "code",
      "metadata": {
        "colab": {
          "base_uri": "https://localhost:8080/",
          "height": 80
        },
        "id": "OpFXSuuwiH-g",
        "outputId": "8110a349-d2d5-4856-8003-d97f96fdaeb1"
      },
      "source": [
        "partial_corr.partial_corr(x='dondurma_satisi', y='turist', covar=['sicaklik'],\n",
        "                method='spearman').round(3)"
      ],
      "execution_count": 45,
      "outputs": [
        {
          "output_type": "execute_result",
          "data": {
            "text/html": [
              "<div>\n",
              "<style scoped>\n",
              "    .dataframe tbody tr th:only-of-type {\n",
              "        vertical-align: middle;\n",
              "    }\n",
              "\n",
              "    .dataframe tbody tr th {\n",
              "        vertical-align: top;\n",
              "    }\n",
              "\n",
              "    .dataframe thead th {\n",
              "        text-align: right;\n",
              "    }\n",
              "</style>\n",
              "<table border=\"1\" class=\"dataframe\">\n",
              "  <thead>\n",
              "    <tr style=\"text-align: right;\">\n",
              "      <th></th>\n",
              "      <th>n</th>\n",
              "      <th>r</th>\n",
              "      <th>CI95%</th>\n",
              "      <th>p-val</th>\n",
              "    </tr>\n",
              "  </thead>\n",
              "  <tbody>\n",
              "    <tr>\n",
              "      <th>spearman</th>\n",
              "      <td>25</td>\n",
              "      <td>-0.395</td>\n",
              "      <td>[-0.69, 0.01]</td>\n",
              "      <td>0.056</td>\n",
              "    </tr>\n",
              "  </tbody>\n",
              "</table>\n",
              "</div>"
            ],
            "text/plain": [
              "           n      r          CI95%  p-val\n",
              "spearman  25 -0.395  [-0.69, 0.01]  0.056"
            ]
          },
          "metadata": {
            "tags": []
          },
          "execution_count": 45
        }
      ]
    },
    {
      "cell_type": "code",
      "metadata": {
        "colab": {
          "base_uri": "https://localhost:8080/",
          "height": 80
        },
        "id": "zQxDjev9iz-W",
        "outputId": "42ed32db-738b-41e3-f9f5-11725aa8af63"
      },
      "source": [
        "partial_corr.partial_corr(x='dondurma_satisi', y='sicaklik', covar=['turist'],\n",
        "                method='spearman').round(3)"
      ],
      "execution_count": 46,
      "outputs": [
        {
          "output_type": "execute_result",
          "data": {
            "text/html": [
              "<div>\n",
              "<style scoped>\n",
              "    .dataframe tbody tr th:only-of-type {\n",
              "        vertical-align: middle;\n",
              "    }\n",
              "\n",
              "    .dataframe tbody tr th {\n",
              "        vertical-align: top;\n",
              "    }\n",
              "\n",
              "    .dataframe thead th {\n",
              "        text-align: right;\n",
              "    }\n",
              "</style>\n",
              "<table border=\"1\" class=\"dataframe\">\n",
              "  <thead>\n",
              "    <tr style=\"text-align: right;\">\n",
              "      <th></th>\n",
              "      <th>n</th>\n",
              "      <th>r</th>\n",
              "      <th>CI95%</th>\n",
              "      <th>p-val</th>\n",
              "    </tr>\n",
              "  </thead>\n",
              "  <tbody>\n",
              "    <tr>\n",
              "      <th>spearman</th>\n",
              "      <td>25</td>\n",
              "      <td>0.78</td>\n",
              "      <td>[0.55, 0.9]</td>\n",
              "      <td>0.0</td>\n",
              "    </tr>\n",
              "  </tbody>\n",
              "</table>\n",
              "</div>"
            ],
            "text/plain": [
              "           n     r        CI95%  p-val\n",
              "spearman  25  0.78  [0.55, 0.9]    0.0"
            ]
          },
          "metadata": {
            "tags": []
          },
          "execution_count": 46
        }
      ]
    },
    {
      "cell_type": "code",
      "metadata": {
        "colab": {
          "base_uri": "https://localhost:8080/",
          "height": 80
        },
        "id": "NJTZNhnRi5Nu",
        "outputId": "69906c43-8c1c-40bf-f4c4-b2532191e2cc"
      },
      "source": [
        "# altermatif olarak\n",
        "pg.partial_corr(data=partial_corr,x='dondurma_satisi', y='sicaklik', covar=['turist'],\n",
        "                method='spearman').round(3)"
      ],
      "execution_count": 47,
      "outputs": [
        {
          "output_type": "execute_result",
          "data": {
            "text/html": [
              "<div>\n",
              "<style scoped>\n",
              "    .dataframe tbody tr th:only-of-type {\n",
              "        vertical-align: middle;\n",
              "    }\n",
              "\n",
              "    .dataframe tbody tr th {\n",
              "        vertical-align: top;\n",
              "    }\n",
              "\n",
              "    .dataframe thead th {\n",
              "        text-align: right;\n",
              "    }\n",
              "</style>\n",
              "<table border=\"1\" class=\"dataframe\">\n",
              "  <thead>\n",
              "    <tr style=\"text-align: right;\">\n",
              "      <th></th>\n",
              "      <th>n</th>\n",
              "      <th>r</th>\n",
              "      <th>CI95%</th>\n",
              "      <th>p-val</th>\n",
              "    </tr>\n",
              "  </thead>\n",
              "  <tbody>\n",
              "    <tr>\n",
              "      <th>spearman</th>\n",
              "      <td>25</td>\n",
              "      <td>0.78</td>\n",
              "      <td>[0.55, 0.9]</td>\n",
              "      <td>0.0</td>\n",
              "    </tr>\n",
              "  </tbody>\n",
              "</table>\n",
              "</div>"
            ],
            "text/plain": [
              "           n     r        CI95%  p-val\n",
              "spearman  25  0.78  [0.55, 0.9]    0.0"
            ]
          },
          "metadata": {
            "tags": []
          },
          "execution_count": 47
        }
      ]
    },
    {
      "cell_type": "code",
      "metadata": {
        "colab": {
          "base_uri": "https://localhost:8080/",
          "height": 80
        },
        "id": "6BONNUIVjpAW",
        "outputId": "456864c2-0050-49d5-fc68-dcaaf55e9ad3"
      },
      "source": [
        "pg.partial_corr(data=partial_corr,x='dondurma_satisi', y='sicaklik', covar=['turist'],\n",
        "                method='pearson').round(3)"
      ],
      "execution_count": 48,
      "outputs": [
        {
          "output_type": "execute_result",
          "data": {
            "text/html": [
              "<div>\n",
              "<style scoped>\n",
              "    .dataframe tbody tr th:only-of-type {\n",
              "        vertical-align: middle;\n",
              "    }\n",
              "\n",
              "    .dataframe tbody tr th {\n",
              "        vertical-align: top;\n",
              "    }\n",
              "\n",
              "    .dataframe thead th {\n",
              "        text-align: right;\n",
              "    }\n",
              "</style>\n",
              "<table border=\"1\" class=\"dataframe\">\n",
              "  <thead>\n",
              "    <tr style=\"text-align: right;\">\n",
              "      <th></th>\n",
              "      <th>n</th>\n",
              "      <th>r</th>\n",
              "      <th>CI95%</th>\n",
              "      <th>p-val</th>\n",
              "    </tr>\n",
              "  </thead>\n",
              "  <tbody>\n",
              "    <tr>\n",
              "      <th>pearson</th>\n",
              "      <td>25</td>\n",
              "      <td>0.815</td>\n",
              "      <td>[0.61, 0.92]</td>\n",
              "      <td>0.0</td>\n",
              "    </tr>\n",
              "  </tbody>\n",
              "</table>\n",
              "</div>"
            ],
            "text/plain": [
              "          n      r         CI95%  p-val\n",
              "pearson  25  0.815  [0.61, 0.92]    0.0"
            ]
          },
          "metadata": {
            "tags": []
          },
          "execution_count": 48
        }
      ]
    },
    {
      "cell_type": "code",
      "metadata": {
        "id": "FC1CqqH_jy9g"
      },
      "source": [
        ""
      ],
      "execution_count": null,
      "outputs": []
    }
  ]
}